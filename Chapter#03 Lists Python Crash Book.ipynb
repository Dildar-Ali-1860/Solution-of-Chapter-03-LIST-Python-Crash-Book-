{
 "cells": [
  {
   "cell_type": "code",
   "execution_count": 1,
   "id": "31964106",
   "metadata": {},
   "outputs": [
    {
     "name": "stdout",
     "output_type": "stream",
     "text": [
      "['trek', 'cannondale', 'redline', 'specialized']\n"
     ]
    }
   ],
   "source": [
    "#Name: Dildar Ali\n",
    "#Date: 21/June/2022\n",
    "bicycles = ['trek', 'cannondale', 'redline', 'specialized']\n",
    "print(bicycles)"
   ]
  },
  {
   "cell_type": "code",
   "execution_count": 2,
   "id": "110e9174",
   "metadata": {},
   "outputs": [
    {
     "name": "stdout",
     "output_type": "stream",
     "text": [
      "trek\n"
     ]
    }
   ],
   "source": [
    "print(bicycles[0])"
   ]
  },
  {
   "cell_type": "code",
   "execution_count": 5,
   "id": "4105f6e2",
   "metadata": {},
   "outputs": [
    {
     "name": "stdout",
     "output_type": "stream",
     "text": [
      "Redline\n"
     ]
    }
   ],
   "source": [
    "print(bicycles[2].title())"
   ]
  },
  {
   "cell_type": "code",
   "execution_count": 4,
   "id": "bb7c1d05",
   "metadata": {},
   "outputs": [
    {
     "name": "stdout",
     "output_type": "stream",
     "text": [
      "Trek\n"
     ]
    }
   ],
   "source": [
    "print(bicycles[0].title())"
   ]
  },
  {
   "cell_type": "code",
   "execution_count": 6,
   "id": "6c0cbccf",
   "metadata": {},
   "outputs": [
    {
     "name": "stdout",
     "output_type": "stream",
     "text": [
      "Specialized\n"
     ]
    }
   ],
   "source": [
    "print(bicycles[-1].title())"
   ]
  },
  {
   "cell_type": "code",
   "execution_count": 8,
   "id": "0b407b42",
   "metadata": {},
   "outputs": [
    {
     "name": "stdout",
     "output_type": "stream",
     "text": [
      "My first bicycle was Trek\n"
     ]
    }
   ],
   "source": [
    "print(\"My first bicycle was\",bicycles[0].title())"
   ]
  },
  {
   "cell_type": "code",
   "execution_count": 9,
   "id": "57f04fce",
   "metadata": {},
   "outputs": [
    {
     "name": "stdout",
     "output_type": "stream",
     "text": [
      "My last bicycle was Specialized\n"
     ]
    }
   ],
   "source": [
    "print(\"My last bicycle was\",bicycles[-1].title())"
   ]
  },
  {
   "cell_type": "code",
   "execution_count": 12,
   "id": "5f7096e8",
   "metadata": {},
   "outputs": [
    {
     "name": "stdout",
     "output_type": "stream",
     "text": [
      "Aamir\n",
      "Kazim\n",
      "Bilal\n"
     ]
    }
   ],
   "source": [
    "#Task\n",
    "#3.1\n",
    "#Names: Store the names of a few of your friends in a list called names. Print each person’s name by accessing each element in the list, one at a time.\n",
    "\n",
    "names=[\"aamir\",\"kazim\",\"bilal\"]\n",
    "print(names[0].title())\n",
    "print(names[1].title())\n",
    "print(names[2].title())"
   ]
  },
  {
   "cell_type": "code",
   "execution_count": 17,
   "id": "27e0dec6",
   "metadata": {},
   "outputs": [
    {
     "name": "stdout",
     "output_type": "stream",
     "text": [
      "You are my best friend Aamir!\n"
     ]
    }
   ],
   "source": [
    "#3.2\n",
    "#Greetings: Start with the list you used in Exercise 3-1, but instead of just printing each person’s name, print a message to them. The text of each message should be the same, but each message should be personalized with person’s name.\n",
    "\n",
    "message=\"You are my best friend\"+\" \"+names[0].title()+\"!\"\n",
    "print(message)"
   ]
  },
  {
   "cell_type": "code",
   "execution_count": 18,
   "id": "9cf6e9b2",
   "metadata": {},
   "outputs": [
    {
     "name": "stdout",
     "output_type": "stream",
     "text": [
      "You are my best friend Kazim!\n"
     ]
    }
   ],
   "source": [
    "message=\"You are my best friend\"+\" \"+names[1].title()+\"!\"\n",
    "print(message)"
   ]
  },
  {
   "cell_type": "code",
   "execution_count": 19,
   "id": "d03404da",
   "metadata": {},
   "outputs": [
    {
     "name": "stdout",
     "output_type": "stream",
     "text": [
      "You are my best friend Bilal!\n"
     ]
    }
   ],
   "source": [
    "message=\"You are my best friend\"+\" \"+names[2].title()+\"!\"\n",
    "print(message)"
   ]
  },
  {
   "cell_type": "code",
   "execution_count": 54,
   "id": "06e89831",
   "metadata": {},
   "outputs": [
    {
     "name": "stdout",
     "output_type": "stream",
     "text": [
      "I would like to own a Civic car!\n",
      "I would like to own a City car!\n",
      "I would like to own a Suzuki car!\n",
      "I would like to own a Parado car!\n"
     ]
    }
   ],
   "source": [
    "#3.3\n",
    "#Your Own List: Think of your favorite mode of transportation, such as a motorcycle or a car, and make a list that stores several examples. Use your list to print a series of statements about these items, such as “I would like to own a Honda motorcycle.”\n",
    "\n",
    "cars=[\"Civic\",\"city\",\"suzuki\",\"parado\"]\n",
    "print(\"I would like to own a \"+cars[0].title()+\" car!\")\n",
    "print(\"I would like to own a \"+cars[1].title()+\" car!\")\n",
    "print(\"I would like to own a \"+cars[2].title()+\" car!\")\n",
    "print(\"I would like to own a \"+cars[3].title()+\" car!\")"
   ]
  },
  {
   "cell_type": "code",
   "execution_count": 55,
   "id": "1795e508",
   "metadata": {},
   "outputs": [
    {
     "data": {
      "text/plain": [
       "['Civic', 'city', 'suzuki', 'parado']"
      ]
     },
     "execution_count": 55,
     "metadata": {},
     "output_type": "execute_result"
    }
   ],
   "source": [
    "cars"
   ]
  },
  {
   "cell_type": "code",
   "execution_count": 56,
   "id": "1a5077fa",
   "metadata": {},
   "outputs": [
    {
     "data": {
      "text/plain": [
       "['Honda', 'city', 'suzuki', 'parado']"
      ]
     },
     "execution_count": 56,
     "metadata": {},
     "output_type": "execute_result"
    }
   ],
   "source": [
    "cars[0]=\"Honda\"\n",
    "cars"
   ]
  },
  {
   "cell_type": "code",
   "execution_count": 44,
   "id": "85bf9df2",
   "metadata": {},
   "outputs": [
    {
     "data": {
      "text/plain": [
       "['Honda', 'city', 'suzuki', 'parado', 'Civic']"
      ]
     },
     "execution_count": 44,
     "metadata": {},
     "output_type": "execute_result"
    }
   ],
   "source": [
    "cars.append(\"Civic\")\n",
    "cars"
   ]
  },
  {
   "cell_type": "code",
   "execution_count": 28,
   "id": "994a48d4",
   "metadata": {},
   "outputs": [
    {
     "name": "stdout",
     "output_type": "stream",
     "text": [
      "['CD 70', '100 CC', '125 CC', 'Hi-Speed']\n"
     ]
    }
   ],
   "source": [
    "motorcyle=[]\n",
    "motorcyle.append(\"CD 70\")\n",
    "motorcyle.append(\"100 CC\")\n",
    "motorcyle.append(\"125 CC\")\n",
    "motorcyle.append(\"Hi-Speed\")\n",
    "print(motorcyle)"
   ]
  },
  {
   "cell_type": "code",
   "execution_count": 29,
   "id": "8c9067eb",
   "metadata": {},
   "outputs": [
    {
     "data": {
      "text/plain": [
       "['Honda', 'city', 'suzuki', 'parado', 'Civic']"
      ]
     },
     "execution_count": 29,
     "metadata": {},
     "output_type": "execute_result"
    }
   ],
   "source": [
    "cars"
   ]
  },
  {
   "cell_type": "code",
   "execution_count": 51,
   "id": "cc2c0b6f",
   "metadata": {},
   "outputs": [
    {
     "data": {
      "text/plain": [
       "['Mehran']"
      ]
     },
     "execution_count": 51,
     "metadata": {},
     "output_type": "execute_result"
    }
   ],
   "source": [
    "cars.insert(0,\"Mehran\")\n",
    "cars"
   ]
  },
  {
   "cell_type": "code",
   "execution_count": 57,
   "id": "638418d9",
   "metadata": {},
   "outputs": [
    {
     "data": {
      "text/plain": [
       "['Honda', 'suzuki', 'parado']"
      ]
     },
     "execution_count": 57,
     "metadata": {},
     "output_type": "execute_result"
    }
   ],
   "source": [
    "del cars[1]\n",
    "cars"
   ]
  },
  {
   "cell_type": "code",
   "execution_count": 58,
   "id": "00c214fd",
   "metadata": {},
   "outputs": [
    {
     "name": "stdout",
     "output_type": "stream",
     "text": [
      "parado\n"
     ]
    },
    {
     "data": {
      "text/plain": [
       "['Honda', 'suzuki']"
      ]
     },
     "execution_count": 58,
     "metadata": {},
     "output_type": "execute_result"
    }
   ],
   "source": [
    "print(cars.pop())\n",
    "cars"
   ]
  },
  {
   "cell_type": "code",
   "execution_count": 59,
   "id": "8ae86a4c",
   "metadata": {},
   "outputs": [
    {
     "name": "stdout",
     "output_type": "stream",
     "text": [
      "My first car was Honda\n"
     ]
    }
   ],
   "source": [
    "first_owned=cars.pop(0)\n",
    "print(\"My first car was \"+first_owned)"
   ]
  },
  {
   "cell_type": "code",
   "execution_count": 63,
   "id": "b2634db8",
   "metadata": {},
   "outputs": [
    {
     "name": "stdout",
     "output_type": "stream",
     "text": [
      "A Suzuki car was so expensive!\n"
     ]
    }
   ],
   "source": [
    "print(\"A \"+cars[0].title()+\" car was so expensive!\")"
   ]
  },
  {
   "cell_type": "code",
   "execution_count": 143,
   "id": "0e07eedb",
   "metadata": {},
   "outputs": [
    {
     "name": "stdout",
     "output_type": "stream",
     "text": [
      "You are invited for dinner Mr. Asad.\n"
     ]
    }
   ],
   "source": [
    "#TASK\n",
    "#3.4 Guest List: If you could invite anyone, living or deceased, to dinner, who would you invite? Make a list that includes at least three people you’d like to invite to dinner. Then use your list to print a message to each person, inviting them to dinner\n",
    "guest_list=[\"Asad\",\"Aamir\",\"bilal\"]\n",
    "message=\"You are invited for dinner Mr. \"+gues_list[0].title()+\".\"\n",
    "print(message)"
   ]
  },
  {
   "cell_type": "code",
   "execution_count": 144,
   "id": "c150ccc4",
   "metadata": {},
   "outputs": [
    {
     "name": "stdout",
     "output_type": "stream",
     "text": [
      "You are invited for dinner Mr. Aamir.\n"
     ]
    }
   ],
   "source": [
    "message=\"You are invited for dinner Mr. \"+guest_list[1].title()+\".\"\n",
    "print(message)"
   ]
  },
  {
   "cell_type": "code",
   "execution_count": 145,
   "id": "13a53bd8",
   "metadata": {},
   "outputs": [
    {
     "name": "stdout",
     "output_type": "stream",
     "text": [
      "You are invited for dinner Mr. Bilal.\n"
     ]
    }
   ],
   "source": [
    "message=\"You are invited for dinner Mr. \"+guest_list[2].title()+\".\"\n",
    "print(message)"
   ]
  },
  {
   "cell_type": "code",
   "execution_count": 146,
   "id": "beb1b91a",
   "metadata": {},
   "outputs": [
    {
     "name": "stdout",
     "output_type": "stream",
     "text": [
      "Mr. Bilal can't make it.\n",
      "['Asad', 'Aamir', 'Umer']\n",
      "\n",
      "You are inited for dinner Mr. Asad.\n",
      "You are inited for dinner Mr. Aamir.\n",
      "You are inited for dinner Mr. Umer.\n"
     ]
    }
   ],
   "source": [
    "#3.5\n",
    "#Changing Guest List: You just heard that one of your guests can’t make the dinner, so you need to send out a new set of invitations. You’ll have to think of someone else to invite.\n",
    "#• Start with your program from Exercise 3-4. Add a print statement at the end of your program stating the name of the guest who can’t make it.\n",
    "#• Modify your list, replacing the name of the guest who can’t make it with the name of the new person you are inviting.\n",
    "#• Print a second set of invitation messages, one for each person who is still in your list\n",
    "\n",
    "print(\"Mr. \"+guest_list[2].title()+\" can't make it.\")\n",
    "\n",
    "guest_list[2]=\"Umer\"\n",
    "print(guest_list)\n",
    "print(\"\\nYou are inited for dinner Mr. \"+guest_list[0].title()+\".\")\n",
    "print(\"You are inited for dinner Mr. \"+guest_list[1].title()+\".\")\n",
    "print(\"You are inited for dinner Mr. \"+guest_list[2].title()+\".\")"
   ]
  },
  {
   "cell_type": "code",
   "execution_count": 147,
   "id": "8a7b20a1",
   "metadata": {},
   "outputs": [
    {
     "name": "stdout",
     "output_type": "stream",
     "text": [
      "I found a bigger dinner table!\n",
      "['Ali', 'Asad', 'Aamir', 'Abdul', 'Umer', 'Dildar']\n",
      "\n",
      "You are inited for dinner Mr. Ali.\n",
      "You are inited for dinner Mr. Asad.\n",
      "You are inited for dinner Mr. Aamir.\n",
      "You are inited for dinner Mr. Abdul.\n"
     ]
    },
    {
     "ename": "NameError",
     "evalue": "name 'pr' is not defined",
     "output_type": "error",
     "traceback": [
      "\u001b[1;31m---------------------------------------------------------------------------\u001b[0m",
      "\u001b[1;31mNameError\u001b[0m                                 Traceback (most recent call last)",
      "Input \u001b[1;32mIn [147]\u001b[0m, in \u001b[0;36m<cell line: 19>\u001b[1;34m()\u001b[0m\n\u001b[0;32m     17\u001b[0m \u001b[38;5;28mprint\u001b[39m(\u001b[38;5;124m\"\u001b[39m\u001b[38;5;124mYou are inited for dinner Mr. \u001b[39m\u001b[38;5;124m\"\u001b[39m\u001b[38;5;241m+\u001b[39mguest_list[\u001b[38;5;241m2\u001b[39m]\u001b[38;5;241m.\u001b[39mtitle()\u001b[38;5;241m+\u001b[39m\u001b[38;5;124m\"\u001b[39m\u001b[38;5;124m.\u001b[39m\u001b[38;5;124m\"\u001b[39m)\n\u001b[0;32m     18\u001b[0m \u001b[38;5;28mprint\u001b[39m(\u001b[38;5;124m\"\u001b[39m\u001b[38;5;124mYou are inited for dinner Mr. \u001b[39m\u001b[38;5;124m\"\u001b[39m\u001b[38;5;241m+\u001b[39mguest_list[\u001b[38;5;241m3\u001b[39m]\u001b[38;5;241m.\u001b[39mtitle()\u001b[38;5;241m+\u001b[39m\u001b[38;5;124m\"\u001b[39m\u001b[38;5;124m.\u001b[39m\u001b[38;5;124m\"\u001b[39m)\n\u001b[1;32m---> 19\u001b[0m \u001b[43mpr\u001b[49m\n\u001b[0;32m     21\u001b[0m \u001b[38;5;28mint\u001b[39m(\u001b[38;5;124m\"\u001b[39m\u001b[38;5;124mYou are inited for dinner Mr. \u001b[39m\u001b[38;5;124m\"\u001b[39m\u001b[38;5;241m+\u001b[39mguest_list[\u001b[38;5;241m4\u001b[39m]\u001b[38;5;241m.\u001b[39mtitle()\u001b[38;5;241m+\u001b[39m\u001b[38;5;124m\"\u001b[39m\u001b[38;5;124m.\u001b[39m\u001b[38;5;124m\"\u001b[39m)\n\u001b[0;32m     22\u001b[0m \u001b[38;5;28mprint\u001b[39m(\u001b[38;5;124m\"\u001b[39m\u001b[38;5;124mYou are inited for dinner Mr. \u001b[39m\u001b[38;5;124m\"\u001b[39m\u001b[38;5;241m+\u001b[39mguest_list[\u001b[38;5;241m5\u001b[39m]\u001b[38;5;241m.\u001b[39mtitle()\u001b[38;5;241m+\u001b[39m\u001b[38;5;124m\"\u001b[39m\u001b[38;5;124m.\u001b[39m\u001b[38;5;124m\"\u001b[39m)\n",
      "\u001b[1;31mNameError\u001b[0m: name 'pr' is not defined"
     ]
    }
   ],
   "source": [
    "#3.6\n",
    "#More Guests: You just found a bigger dinner table, so now more space is available. Think of three more guests to invite to dinner.\n",
    "#• Start with your program from Exercise 3-4 or Exercise 3-5. Add a print statement to the end of your program informing people that you found a bigger dinner table.\n",
    "#• Use insert() to add one new guest to the beginning of your list.\n",
    "#• Use insert() to add one new guest to the middle of your list.\n",
    "#• Use append() to add one new guest to the end of your list.\n",
    "#• Print a new set of invitation messages, one for each person in your list.\n",
    "\n",
    "print(\"I found a bigger dinner table!\")\n",
    "guest_list.insert(0,\"Ali\")\n",
    "guest_list.insert(3,\"Abdul\")\n",
    "guest_list.append(\"Dildar\")\n",
    "print(guest_list)\n",
    "\n",
    "print(\"\\nYou are inited for dinner Mr. \"+guest_list[0].title()+\".\")\n",
    "print(\"You are inited for dinner Mr. \"+guest_list[1].title()+\".\")\n",
    "print(\"You are inited for dinner Mr. \"+guest_list[2].title()+\".\")\n",
    "print(\"You are inited for dinner Mr. \"+guest_list[3].title()+\".\")\n",
    "pr\n",
    "\n",
    "int(\"You are inited for dinner Mr. \"+guest_list[4].title()+\".\")\n",
    "print(\"You are inited for dinner Mr. \"+guest_list[5].title()+\".\")"
   ]
  },
  {
   "cell_type": "code",
   "execution_count": 148,
   "id": "f275dba0",
   "metadata": {},
   "outputs": [
    {
     "data": {
      "text/plain": [
       "['Ali', 'Asad', 'Aamir', 'Abdul', 'Umer', 'Dildar']"
      ]
     },
     "execution_count": 148,
     "metadata": {},
     "output_type": "execute_result"
    }
   ],
   "source": [
    "#3.7 Shrinking Guest List: You just found out that your new dinner table won’t arrive in time for the dinner, and you have space for only two guests.\n",
    "#• Start with your program from Exercise 3-6. Add a new line that prints a message saying that you can invite only two people for dinner.\n",
    "#• Use pop() to remove guests from your list one at a time until only two names remain in your list. Each time you pop a name from your list, print a message to that person letting them know you’re sorry you can’t invite them to dinner.\n",
    "#• Print a message to each of the two people still on your list, letting them know they’re still invited.\n",
    "#• Use del to remove the last two names from your list, so you have an empty list. Print your list to make sure you actually have an empty list at the end of your program\n",
    "guest_list"
   ]
  },
  {
   "cell_type": "code",
   "execution_count": 149,
   "id": "6c8b3781",
   "metadata": {},
   "outputs": [
    {
     "name": "stdout",
     "output_type": "stream",
     "text": [
      "I can invite only two people for dinner!\n",
      "\n",
      "I'm sorry i can't invite you to dinner Mr. Dildar!\n"
     ]
    }
   ],
   "source": [
    "print(\"I can invite only two people for dinner!\")\n",
    "not_invited=guest_list.pop()\n",
    "print(\"\\nI'm sorry i can't invite you to dinner Mr. \"+not_invited.title()+\"!\")"
   ]
  },
  {
   "cell_type": "code",
   "execution_count": 150,
   "id": "d1eadc8c",
   "metadata": {},
   "outputs": [
    {
     "name": "stdout",
     "output_type": "stream",
     "text": [
      "\n",
      "I'm sorry i can't invite you to dinner Mr. Umer!\n"
     ]
    }
   ],
   "source": [
    "not_invited=guest_list.pop()\n",
    "print(\"\\nI'm sorry i can't invite you to dinner Mr. \"+not_invited.title()+\"!\")\n"
   ]
  },
  {
   "cell_type": "code",
   "execution_count": 151,
   "id": "1bb3e84d",
   "metadata": {},
   "outputs": [
    {
     "name": "stdout",
     "output_type": "stream",
     "text": [
      "\n",
      "I'm sorry i can't invite you to dinner Mr. Abdul!\n"
     ]
    }
   ],
   "source": [
    "not_invited=guest_list.pop()\n",
    "print(\"\\nI'm sorry i can't invite you to dinner Mr. \"+not_invited.title()+\"!\")"
   ]
  },
  {
   "cell_type": "code",
   "execution_count": 152,
   "id": "3b3739e9",
   "metadata": {},
   "outputs": [
    {
     "name": "stdout",
     "output_type": "stream",
     "text": [
      "\n",
      "I'm sorry i can't invite you to dinner Mr. Aamir!\n"
     ]
    }
   ],
   "source": [
    "not_invited=guest_list.pop()\n",
    "print(\"\\nI'm sorry i can't invite you to dinner Mr. \"+not_invited.title()+\"!\")"
   ]
  },
  {
   "cell_type": "code",
   "execution_count": 153,
   "id": "cf41d99f",
   "metadata": {},
   "outputs": [
    {
     "name": "stdout",
     "output_type": "stream",
     "text": [
      "['Ali', 'Asad']\n",
      "\n",
      "You are still invited Mr. Ali!\n"
     ]
    }
   ],
   "source": [
    "print(guest_list)\n",
    "invited=guest_list[0].title()\n",
    "print(\"\\nYou are still invited Mr. \"+invited+\"!\")"
   ]
  },
  {
   "cell_type": "code",
   "execution_count": 154,
   "id": "fbabb50f",
   "metadata": {},
   "outputs": [
    {
     "name": "stdout",
     "output_type": "stream",
     "text": [
      "You are still invited Mr. Asad!\n"
     ]
    }
   ],
   "source": [
    "invited=guest_list[1].title()\n",
    "print(\"You are still invited Mr. \"+invited+\"!\")"
   ]
  },
  {
   "cell_type": "code",
   "execution_count": 155,
   "id": "2297aa04",
   "metadata": {},
   "outputs": [
    {
     "data": {
      "text/plain": [
       "['Ali']"
      ]
     },
     "execution_count": 155,
     "metadata": {},
     "output_type": "execute_result"
    }
   ],
   "source": [
    "del guest_list[1]\n",
    "guest_list"
   ]
  },
  {
   "cell_type": "code",
   "execution_count": 156,
   "id": "1e96a948",
   "metadata": {},
   "outputs": [
    {
     "data": {
      "text/plain": [
       "[]"
      ]
     },
     "execution_count": 156,
     "metadata": {},
     "output_type": "execute_result"
    }
   ],
   "source": [
    "del guest_list[0]\n",
    "guest_list"
   ]
  },
  {
   "cell_type": "code",
   "execution_count": 10,
   "id": "f3e78acb",
   "metadata": {},
   "outputs": [
    {
     "name": "stdout",
     "output_type": "stream",
     "text": [
      "['Abdul', 'Asad', 'Umer', 'aamir', 'ali', 'dildar']\n"
     ]
    }
   ],
   "source": [
    "gues_list=['ali', 'Asad', 'aamir', 'Abdul', 'Umer', 'dildar']\n",
    "gues_list.sort()\n",
    "print(gues_list)"
   ]
  },
  {
   "cell_type": "code",
   "execution_count": 11,
   "id": "319c5138",
   "metadata": {},
   "outputs": [
    {
     "name": "stdout",
     "output_type": "stream",
     "text": [
      "['dildar', 'ali', 'aamir', 'Umer', 'Asad', 'Abdul']\n"
     ]
    }
   ],
   "source": [
    "gues_list=['ali', 'Asad', 'aamir', 'Abdul', 'Umer', 'dildar']\n",
    "gues_list.sort(reverse=True)\n",
    "print(gues_list)"
   ]
  },
  {
   "cell_type": "code",
   "execution_count": 1,
   "id": "85611aed",
   "metadata": {},
   "outputs": [
    {
     "name": "stdout",
     "output_type": "stream",
     "text": [
      "['Abid', 'Aslam', 'Dildar', 'ali']\n"
     ]
    }
   ],
   "source": [
    "names=[\"ali\",'Abid',\"Aslam\",\"Dildar\"]\n",
    "names.sort()\n",
    "print(names)"
   ]
  },
  {
   "cell_type": "code",
   "execution_count": 4,
   "id": "e5e1a0fe",
   "metadata": {},
   "outputs": [
    {
     "name": "stdout",
     "output_type": "stream",
     "text": [
      "['ali', 'Dildar', 'Aslam', 'Abid']\n"
     ]
    }
   ],
   "source": [
    "names.reverse()\n",
    "print(names)"
   ]
  },
  {
   "cell_type": "code",
   "execution_count": 5,
   "id": "4a0a2a31",
   "metadata": {},
   "outputs": [
    {
     "data": {
      "text/plain": [
       "4"
      ]
     },
     "execution_count": 5,
     "metadata": {},
     "output_type": "execute_result"
    }
   ],
   "source": [
    "len(names)"
   ]
  },
  {
   "cell_type": "code",
   "execution_count": 6,
   "id": "873b3f16",
   "metadata": {},
   "outputs": [
    {
     "name": "stdout",
     "output_type": "stream",
     "text": [
      "['Abid', 'Aslam', 'Dildar', 'ali']\n"
     ]
    }
   ],
   "source": [
    "names.reverse()\n",
    "print(names)"
   ]
  },
  {
   "cell_type": "code",
   "execution_count": 9,
   "id": "32c22b36",
   "metadata": {},
   "outputs": [
    {
     "name": "stdout",
     "output_type": "stream",
     "text": [
      "['ali', 'Dildar', 'Aslam', 'Abid']\n"
     ]
    }
   ],
   "source": [
    "names.sort(reverse=True)\n",
    "print(names)"
   ]
  },
  {
   "cell_type": "code",
   "execution_count": 12,
   "id": "4ea2859b",
   "metadata": {},
   "outputs": [
    {
     "data": {
      "text/plain": [
       "['dildar', 'ali', 'aamir', 'Umer', 'Asad', 'Abdul']"
      ]
     },
     "execution_count": 12,
     "metadata": {},
     "output_type": "execute_result"
    }
   ],
   "source": [
    "gues_list"
   ]
  },
  {
   "cell_type": "code",
   "execution_count": 13,
   "id": "57a93bd7",
   "metadata": {},
   "outputs": [
    {
     "data": {
      "text/plain": [
       "6"
      ]
     },
     "execution_count": 13,
     "metadata": {},
     "output_type": "execute_result"
    }
   ],
   "source": [
    "len(gues_list)"
   ]
  },
  {
   "cell_type": "code",
   "execution_count": 15,
   "id": "93d04d57",
   "metadata": {},
   "outputs": [
    {
     "data": {
      "text/plain": [
       "['karachi', 'Jamshoro', 'Multan', 'Lahore', 'Dadu', 'Sehwan', 'Larkana']"
      ]
     },
     "execution_count": 15,
     "metadata": {},
     "output_type": "execute_result"
    }
   ],
   "source": [
    "cities=[\"karachi\",\"Multan\",\"Lahore\",\"Dadu\",\"Sehwan\"]\n",
    "cities.append(\"Larkana\")\n",
    "cities.insert(1,\"Jamshoro\")\n",
    "cities"
   ]
  },
  {
   "cell_type": "code",
   "execution_count": 16,
   "id": "7ba9dd8c",
   "metadata": {},
   "outputs": [
    {
     "data": {
      "text/plain": [
       "'Larkana'"
      ]
     },
     "execution_count": 16,
     "metadata": {},
     "output_type": "execute_result"
    }
   ],
   "source": [
    "cities.pop()"
   ]
  },
  {
   "cell_type": "code",
   "execution_count": 19,
   "id": "b9a8c678",
   "metadata": {},
   "outputs": [
    {
     "data": {
      "text/plain": [
       "['karachi', 'Jamshoro', 'Lahore', 'Dadu', 'Sehwan']"
      ]
     },
     "execution_count": 19,
     "metadata": {},
     "output_type": "execute_result"
    }
   ],
   "source": [
    "del cities[2]\n",
    "cities"
   ]
  },
  {
   "cell_type": "code",
   "execution_count": null,
   "id": "212fba08",
   "metadata": {},
   "outputs": [],
   "source": [
    "#    THE END         "
   ]
  }
 ],
 "metadata": {
  "kernelspec": {
   "display_name": "Python 3 (ipykernel)",
   "language": "python",
   "name": "python3"
  },
  "language_info": {
   "codemirror_mode": {
    "name": "ipython",
    "version": 3
   },
   "file_extension": ".py",
   "mimetype": "text/x-python",
   "name": "python",
   "nbconvert_exporter": "python",
   "pygments_lexer": "ipython3",
   "version": "3.9.12"
  }
 },
 "nbformat": 4,
 "nbformat_minor": 5
}
